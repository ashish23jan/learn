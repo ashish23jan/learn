{
 "cells": [
  {
   "cell_type": "markdown",
   "id": "7e4b8c52",
   "metadata": {},
   "source": [
    "## FUNCTIONS"
   ]
  },
  {
   "cell_type": "markdown",
   "id": "e2fc1530",
   "metadata": {},
   "source": [
    "#### If a group of statements is repeatedly required then it is not recommended to write these statements everytime seperately.We have to define these statements as a single unit and we can call that unit any number of times based on our requirement without rewriting. \n",
    "#### This unit is nothing but function.\n",
    "#### The main advantage of functions is code Reusability.\n",
    "#### Note: In other languages functions are known as methods,procedures,subroutines etc\n",
    "#### Python supports 2 types of functions\n",
    "#### 1. Built in Functions\n",
    "#### 2. User Defined Functions"
   ]
  },
  {
   "cell_type": "markdown",
   "id": "c9f18689",
   "metadata": {},
   "source": [
    "#### 1. Built in Functions:\n",
    "#### The functions which are coming along with Python software automatically,are called built \n",
    "#### in functions or pre defined functions\n",
    "#### Eg:\n",
    "id()\n",
    "\n",
    "type()\n",
    "\n",
    "input()\n",
    "\n",
    "eval()\n",
    "\n",
    "etc.."
   ]
  },
  {
   "cell_type": "markdown",
   "id": "9bd5bd23",
   "metadata": {},
   "source": [
    "#### 2. User Defined Functions:\n",
    "##### The functions which are developed by programmer explicitly according to business requirements ,are called user defined functions.\n",
    "#### Syntax to create user defined functions:\n",
    "#### def function_name(parameters) :\n",
    " \" doc string''\n",
    " ----\n",
    " -----\n",
    " return value\n"
   ]
  },
  {
   "cell_type": "markdown",
   "id": "35223ae7",
   "metadata": {},
   "source": [
    "#### Note: While creating functions we can use 2 keywords\n",
    "#### 1. def (mandatory)\n",
    "#### 2. return (optional)\n"
   ]
  },
  {
   "cell_type": "markdown",
   "id": "57a2c0c3",
   "metadata": {},
   "source": [
    "#### Eg 1: Write a function to print Hello\n"
   ]
  },
  {
   "cell_type": "code",
   "execution_count": 3,
   "id": "3c73e1d2",
   "metadata": {},
   "outputs": [],
   "source": [
    "def hello():\n",
    "    print(\"Hello,how are you\")"
   ]
  },
  {
   "cell_type": "code",
   "execution_count": 7,
   "id": "e7b435e5",
   "metadata": {},
   "outputs": [
    {
     "name": "stdout",
     "output_type": "stream",
     "text": [
      "Hello,how are you\n"
     ]
    }
   ],
   "source": [
    "hello()"
   ]
  },
  {
   "cell_type": "code",
   "execution_count": 8,
   "id": "19e7de97",
   "metadata": {},
   "outputs": [
    {
     "name": "stdout",
     "output_type": "stream",
     "text": [
      "Hello,how are you\n"
     ]
    },
    {
     "ename": "TypeError",
     "evalue": "unsupported operand type(s) for +: 'NoneType' and 'str'",
     "output_type": "error",
     "traceback": [
      "\u001b[1;31m---------------------------------------------------------------------------\u001b[0m",
      "\u001b[1;31mTypeError\u001b[0m                                 Traceback (most recent call last)",
      "\u001b[1;32m<ipython-input-8-7e2a8ee9ee8e>\u001b[0m in \u001b[0;36m<module>\u001b[1;34m\u001b[0m\n\u001b[1;32m----> 1\u001b[1;33m \u001b[0mhello\u001b[0m\u001b[1;33m(\u001b[0m\u001b[1;33m)\u001b[0m \u001b[1;33m+\u001b[0m \u001b[1;34m\"I am fine, thankyou\"\u001b[0m\u001b[1;33m\u001b[0m\u001b[1;33m\u001b[0m\u001b[0m\n\u001b[0m",
      "\u001b[1;31mTypeError\u001b[0m: unsupported operand type(s) for +: 'NoneType' and 'str'"
     ]
    }
   ],
   "source": [
    "hello() + \"I am fine, thankyou\""
   ]
  },
  {
   "cell_type": "code",
   "execution_count": 5,
   "id": "da07afb6",
   "metadata": {},
   "outputs": [],
   "source": [
    "def hello1():\n",
    "    return \"Hello,how are you\""
   ]
  },
  {
   "cell_type": "code",
   "execution_count": 6,
   "id": "12a3f1a1",
   "metadata": {},
   "outputs": [
    {
     "data": {
      "text/plain": [
       "'Hello,how are you'"
      ]
     },
     "execution_count": 6,
     "metadata": {},
     "output_type": "execute_result"
    }
   ],
   "source": [
    "hello1()"
   ]
  },
  {
   "cell_type": "code",
   "execution_count": 10,
   "id": "a4a8bb98",
   "metadata": {},
   "outputs": [
    {
     "data": {
      "text/plain": [
       "'Hello,how are you I am fine,thankyou'"
      ]
     },
     "execution_count": 10,
     "metadata": {},
     "output_type": "execute_result"
    }
   ],
   "source": [
    "hello1() + \" I am fine,thankyou\""
   ]
  },
  {
   "cell_type": "markdown",
   "id": "dc04b259",
   "metadata": {},
   "source": [
    "### Parameters\n",
    "##### Parameters are inputs to the function. If a function contains parameters,then at the time of calling,compulsory we should provide values ,otherwise we will get error.\n"
   ]
  },
  {
   "cell_type": "markdown",
   "id": "ebcb9d0f",
   "metadata": {},
   "source": [
    "### Eg: Write a function to take name of the student as input and print wish message by name."
   ]
  },
  {
   "cell_type": "code",
   "execution_count": 11,
   "id": "d62c7b1b",
   "metadata": {},
   "outputs": [],
   "source": [
    "def hello2(name):\n",
    "    print(\"Hello\",name,\"How are you\")"
   ]
  },
  {
   "cell_type": "code",
   "execution_count": 12,
   "id": "3f9558c1",
   "metadata": {},
   "outputs": [
    {
     "name": "stdout",
     "output_type": "stream",
     "text": [
      "Hello Ayushi How are you\n"
     ]
    }
   ],
   "source": [
    "hello2(\"Ayushi\")"
   ]
  },
  {
   "cell_type": "code",
   "execution_count": 13,
   "id": "98e7310d",
   "metadata": {},
   "outputs": [],
   "source": [
    "def hello3(name):\n",
    "    return \"Hello\",name,\"How are you\""
   ]
  },
  {
   "cell_type": "code",
   "execution_count": 14,
   "id": "28a0b7c1",
   "metadata": {},
   "outputs": [
    {
     "data": {
      "text/plain": [
       "('Hello', 'Nachiket', 'How are you')"
      ]
     },
     "execution_count": 14,
     "metadata": {},
     "output_type": "execute_result"
    }
   ],
   "source": [
    "hello3(\"Nachiket\")"
   ]
  },
  {
   "cell_type": "code",
   "execution_count": null,
   "id": "ae1e3f21",
   "metadata": {},
   "outputs": [],
   "source": []
  },
  {
   "cell_type": "markdown",
   "id": "f305ba21",
   "metadata": {},
   "source": [
    "#### Eg: Write a function to take number as input and print its square value\n"
   ]
  },
  {
   "cell_type": "code",
   "execution_count": 15,
   "id": "d9651b54",
   "metadata": {},
   "outputs": [],
   "source": [
    "def square(n):\n",
    "    return n*n\n"
   ]
  },
  {
   "cell_type": "code",
   "execution_count": 25,
   "id": "dab1df3b",
   "metadata": {},
   "outputs": [],
   "source": [
    "a = square(4)"
   ]
  },
  {
   "cell_type": "code",
   "execution_count": 26,
   "id": "ff8af09f",
   "metadata": {},
   "outputs": [
    {
     "data": {
      "text/plain": [
       "int"
      ]
     },
     "execution_count": 26,
     "metadata": {},
     "output_type": "execute_result"
    }
   ],
   "source": [
    "type(a)"
   ]
  },
  {
   "cell_type": "code",
   "execution_count": null,
   "id": "9679be64",
   "metadata": {},
   "outputs": [],
   "source": []
  },
  {
   "cell_type": "code",
   "execution_count": 24,
   "id": "5924e55c",
   "metadata": {},
   "outputs": [
    {
     "data": {
      "text/plain": [
       "20"
      ]
     },
     "execution_count": 24,
     "metadata": {},
     "output_type": "execute_result"
    }
   ],
   "source": [
    "a +4"
   ]
  },
  {
   "cell_type": "code",
   "execution_count": 20,
   "id": "f3ae95bd",
   "metadata": {},
   "outputs": [],
   "source": [
    "def square1(n1):\n",
    "    print(\"The square of\",n1,\"is\",n1*n1)"
   ]
  },
  {
   "cell_type": "code",
   "execution_count": 29,
   "id": "f9c5f782",
   "metadata": {},
   "outputs": [
    {
     "name": "stdout",
     "output_type": "stream",
     "text": [
      "The square of 4 is 16\n"
     ]
    }
   ],
   "source": [
    "b= square1(4)"
   ]
  },
  {
   "cell_type": "code",
   "execution_count": 30,
   "id": "c62288d5",
   "metadata": {},
   "outputs": [
    {
     "data": {
      "text/plain": [
       "NoneType"
      ]
     },
     "execution_count": 30,
     "metadata": {},
     "output_type": "execute_result"
    }
   ],
   "source": [
    "type(b)"
   ]
  },
  {
   "cell_type": "code",
   "execution_count": 23,
   "id": "aaa7ce20",
   "metadata": {},
   "outputs": [
    {
     "name": "stdout",
     "output_type": "stream",
     "text": [
      "The square of 4 is 16\n"
     ]
    },
    {
     "ename": "TypeError",
     "evalue": "unsupported operand type(s) for +: 'NoneType' and 'int'",
     "output_type": "error",
     "traceback": [
      "\u001b[1;31m---------------------------------------------------------------------------\u001b[0m",
      "\u001b[1;31mTypeError\u001b[0m                                 Traceback (most recent call last)",
      "\u001b[1;32m<ipython-input-23-326d1a3084ce>\u001b[0m in \u001b[0;36m<module>\u001b[1;34m\u001b[0m\n\u001b[1;32m----> 1\u001b[1;33m \u001b[0msquare1\u001b[0m\u001b[1;33m(\u001b[0m\u001b[1;36m4\u001b[0m\u001b[1;33m)\u001b[0m \u001b[1;33m+\u001b[0m\u001b[1;36m5\u001b[0m\u001b[1;33m\u001b[0m\u001b[1;33m\u001b[0m\u001b[0m\n\u001b[0m",
      "\u001b[1;31mTypeError\u001b[0m: unsupported operand type(s) for +: 'NoneType' and 'int'"
     ]
    }
   ],
   "source": [
    "square1(4) +5"
   ]
  },
  {
   "cell_type": "code",
   "execution_count": null,
   "id": "6d9e271e",
   "metadata": {},
   "outputs": [],
   "source": []
  },
  {
   "cell_type": "markdown",
   "id": "97a838f8",
   "metadata": {},
   "source": [
    "## Return Statement:\n",
    "##### Function can take input values as parameters and executes business logic, and returns output to the caller with return statement."
   ]
  },
  {
   "cell_type": "markdown",
   "id": "200e2717",
   "metadata": {},
   "source": [
    "#### Q. Write a function to accept 2 numbers as input and return sum.\n"
   ]
  },
  {
   "cell_type": "code",
   "execution_count": 35,
   "id": "49670246",
   "metadata": {},
   "outputs": [],
   "source": [
    "def sum(a,b):\n",
    "    add = a+b\n",
    "    return add"
   ]
  },
  {
   "cell_type": "code",
   "execution_count": 36,
   "id": "daf73291",
   "metadata": {},
   "outputs": [],
   "source": [
    "result = sum(10,20)"
   ]
  },
  {
   "cell_type": "code",
   "execution_count": 37,
   "id": "4f2ec367",
   "metadata": {},
   "outputs": [
    {
     "data": {
      "text/plain": [
       "30"
      ]
     },
     "execution_count": 37,
     "metadata": {},
     "output_type": "execute_result"
    }
   ],
   "source": [
    "result"
   ]
  },
  {
   "cell_type": "markdown",
   "id": "cb80a811",
   "metadata": {},
   "source": [
    "#### If we are not writing return statement then default return value is None"
   ]
  },
  {
   "cell_type": "code",
   "execution_count": 43,
   "id": "8ef95eb9",
   "metadata": {},
   "outputs": [],
   "source": [
    "def sum1(x,y):\n",
    "    x+y\n",
    "     \n",
    "    "
   ]
  },
  {
   "cell_type": "code",
   "execution_count": 45,
   "id": "def172dd",
   "metadata": {},
   "outputs": [],
   "source": [
    "sum1(10,20)"
   ]
  },
  {
   "cell_type": "code",
   "execution_count": null,
   "id": "9884c3f5",
   "metadata": {},
   "outputs": [],
   "source": []
  },
  {
   "cell_type": "markdown",
   "id": "e8def795",
   "metadata": {},
   "source": [
    "#### Q. Write a function to check whether the given number is even or odd?\n"
   ]
  },
  {
   "cell_type": "code",
   "execution_count": 46,
   "id": "4a180e2b",
   "metadata": {},
   "outputs": [],
   "source": [
    "def even_odd(n):\n",
    "    if n%2==0:\n",
    "        return \"Even\"\n",
    "    else:\n",
    "        return \"odd\""
   ]
  },
  {
   "cell_type": "code",
   "execution_count": 47,
   "id": "f5e284bc",
   "metadata": {},
   "outputs": [
    {
     "data": {
      "text/plain": [
       "'Even'"
      ]
     },
     "execution_count": 47,
     "metadata": {},
     "output_type": "execute_result"
    }
   ],
   "source": [
    "even_odd(4)"
   ]
  },
  {
   "cell_type": "code",
   "execution_count": 48,
   "id": "d94ddf86",
   "metadata": {},
   "outputs": [
    {
     "data": {
      "text/plain": [
       "'odd'"
      ]
     },
     "execution_count": 48,
     "metadata": {},
     "output_type": "execute_result"
    }
   ],
   "source": [
    "even_odd(7)"
   ]
  },
  {
   "cell_type": "code",
   "execution_count": 51,
   "id": "157e55be",
   "metadata": {},
   "outputs": [
    {
     "name": "stdout",
     "output_type": "stream",
     "text": [
      "Enter a no24\n"
     ]
    },
    {
     "data": {
      "text/plain": [
       "'Even'"
      ]
     },
     "execution_count": 51,
     "metadata": {},
     "output_type": "execute_result"
    }
   ],
   "source": [
    "n = int(input(\"Enter a no\"))\n",
    "even_odd(n)"
   ]
  },
  {
   "cell_type": "markdown",
   "id": "6933cbd9",
   "metadata": {},
   "source": [
    "#### Q. Write a function to find factorial of given number?"
   ]
  },
  {
   "cell_type": "code",
   "execution_count": 52,
   "id": "22b1fb3d",
   "metadata": {},
   "outputs": [],
   "source": [
    "def fact(n):\n",
    "    result = 1\n",
    "    while n>=1:\n",
    "        result = result*n\n",
    "        n=n-1\n",
    "    return result\n",
    "        "
   ]
  },
  {
   "cell_type": "code",
   "execution_count": 56,
   "id": "e154c263",
   "metadata": {},
   "outputs": [
    {
     "data": {
      "text/plain": [
       "120"
      ]
     },
     "execution_count": 56,
     "metadata": {},
     "output_type": "execute_result"
    }
   ],
   "source": [
    "fact(5)"
   ]
  },
  {
   "cell_type": "code",
   "execution_count": 57,
   "id": "a5afdc8c",
   "metadata": {},
   "outputs": [
    {
     "name": "stdout",
     "output_type": "stream",
     "text": [
      "The factorial of  0 is 1\n",
      "The factorial of  1 is 1\n",
      "The factorial of  2 is 2\n",
      "The factorial of  3 is 6\n",
      "The factorial of  4 is 24\n",
      "The factorial of  5 is 120\n"
     ]
    }
   ],
   "source": [
    "for i in range(6):\n",
    "    print(\"The factorial of \",i,\"is\",fact(i))\n",
    "    "
   ]
  },
  {
   "cell_type": "code",
   "execution_count": null,
   "id": "b69954fd",
   "metadata": {},
   "outputs": [],
   "source": []
  },
  {
   "cell_type": "markdown",
   "id": "7301af56",
   "metadata": {},
   "source": [
    "### Returning multiple values from a function:\n",
    "#### In other languages like C and C++ , function can return atmost one value. But in \n",
    "##### Python, a function can return any number of values."
   ]
  },
  {
   "cell_type": "code",
   "execution_count": 58,
   "id": "5f792b9a",
   "metadata": {},
   "outputs": [],
   "source": [
    "def math(a,b):\n",
    "    return a+b,a-b,a*b,a/b,a%b,a**b"
   ]
  },
  {
   "cell_type": "code",
   "execution_count": 5,
   "id": "271cc945",
   "metadata": {},
   "outputs": [],
   "source": [
    "def math1(a,b):\n",
    "    return a+b,a*b,a-b"
   ]
  },
  {
   "cell_type": "code",
   "execution_count": 6,
   "id": "7336667b",
   "metadata": {},
   "outputs": [
    {
     "data": {
      "text/plain": [
       "(30, 200, 10)"
      ]
     },
     "execution_count": 6,
     "metadata": {},
     "output_type": "execute_result"
    }
   ],
   "source": [
    "math1(20,10)"
   ]
  },
  {
   "cell_type": "code",
   "execution_count": 7,
   "id": "334a7286",
   "metadata": {},
   "outputs": [],
   "source": [
    "a,b,c = math1(20,10)"
   ]
  },
  {
   "cell_type": "code",
   "execution_count": 8,
   "id": "00dfa64e",
   "metadata": {},
   "outputs": [
    {
     "data": {
      "text/plain": [
       "30"
      ]
     },
     "execution_count": 8,
     "metadata": {},
     "output_type": "execute_result"
    }
   ],
   "source": [
    "a"
   ]
  },
  {
   "cell_type": "code",
   "execution_count": 9,
   "id": "892618fd",
   "metadata": {},
   "outputs": [
    {
     "data": {
      "text/plain": [
       "200"
      ]
     },
     "execution_count": 9,
     "metadata": {},
     "output_type": "execute_result"
    }
   ],
   "source": [
    "b"
   ]
  },
  {
   "cell_type": "code",
   "execution_count": 10,
   "id": "8925ea22",
   "metadata": {},
   "outputs": [
    {
     "data": {
      "text/plain": [
       "10"
      ]
     },
     "execution_count": 10,
     "metadata": {},
     "output_type": "execute_result"
    }
   ],
   "source": [
    "c"
   ]
  },
  {
   "cell_type": "code",
   "execution_count": 11,
   "id": "3bf201b1",
   "metadata": {},
   "outputs": [],
   "source": [
    "a,b,_=math1(6,2)"
   ]
  },
  {
   "cell_type": "code",
   "execution_count": 12,
   "id": "c79eaa46",
   "metadata": {},
   "outputs": [
    {
     "data": {
      "text/plain": [
       "8"
      ]
     },
     "execution_count": 12,
     "metadata": {},
     "output_type": "execute_result"
    }
   ],
   "source": [
    "a"
   ]
  },
  {
   "cell_type": "code",
   "execution_count": 13,
   "id": "c9a733be",
   "metadata": {},
   "outputs": [
    {
     "data": {
      "text/plain": [
       "12"
      ]
     },
     "execution_count": 13,
     "metadata": {},
     "output_type": "execute_result"
    }
   ],
   "source": [
    "b"
   ]
  },
  {
   "cell_type": "code",
   "execution_count": 24,
   "id": "cb67af33",
   "metadata": {},
   "outputs": [],
   "source": [
    "def test1(n):\n",
    "    return n,n*2,n*3"
   ]
  },
  {
   "cell_type": "code",
   "execution_count": 25,
   "id": "3a823539",
   "metadata": {},
   "outputs": [
    {
     "data": {
      "text/plain": [
       "([1, 2, 3, 4], [1, 2, 3, 4, 1, 2, 3, 4], [1, 2, 3, 4, 1, 2, 3, 4, 1, 2, 3, 4])"
      ]
     },
     "execution_count": 25,
     "metadata": {},
     "output_type": "execute_result"
    }
   ],
   "source": [
    "test1([1,2,3,4])"
   ]
  },
  {
   "cell_type": "code",
   "execution_count": 26,
   "id": "0312c142",
   "metadata": {},
   "outputs": [],
   "source": [
    "x = test1([1,2,3,4])"
   ]
  },
  {
   "cell_type": "code",
   "execution_count": 28,
   "id": "954e14fa",
   "metadata": {},
   "outputs": [
    {
     "data": {
      "text/plain": [
       "[1, 2, 3, 4, 1, 2, 3, 4, 1, 2, 3, 4]"
      ]
     },
     "execution_count": 28,
     "metadata": {},
     "output_type": "execute_result"
    }
   ],
   "source": [
    "x[2]"
   ]
  },
  {
   "cell_type": "code",
   "execution_count": 60,
   "id": "6165342b",
   "metadata": {},
   "outputs": [
    {
     "data": {
      "text/plain": [
       "(6, 2, 8, 2.0, 0, 16)"
      ]
     },
     "execution_count": 60,
     "metadata": {},
     "output_type": "execute_result"
    }
   ],
   "source": [
    "math(4,2)"
   ]
  },
  {
   "cell_type": "code",
   "execution_count": 62,
   "id": "fb582a5d",
   "metadata": {},
   "outputs": [],
   "source": [
    "def maths_operation(x,y):\n",
    "    sum = x+y\n",
    "    sub= x-y\n",
    "    mul = x*y\n",
    "    div = x/y\n",
    "    power= x**y\n",
    "    return sum,sub,mul,div,power"
   ]
  },
  {
   "cell_type": "code",
   "execution_count": 65,
   "id": "0589ea4c",
   "metadata": {},
   "outputs": [
    {
     "data": {
      "text/plain": [
       "(6, 2, 8, 2.0, 16)"
      ]
     },
     "execution_count": 65,
     "metadata": {},
     "output_type": "execute_result"
    }
   ],
   "source": [
    "maths_operation(4,2)"
   ]
  },
  {
   "cell_type": "code",
   "execution_count": null,
   "id": "821afd88",
   "metadata": {},
   "outputs": [],
   "source": []
  },
  {
   "cell_type": "markdown",
   "id": "4166a3f5",
   "metadata": {},
   "source": [
    "## Types of arguments\n",
    "def f1(a,b):\n",
    " ------\n",
    " ------\n",
    " ------\n",
    "### f1(10,20)\n",
    "#### a,b are formal arguments where as 10,20 are actual arguments\n",
    "##### There are 4 types are actual arguments are allowed in Python.\n",
    "1. positional arguments\n",
    "2. keyword arguments\n",
    "3. default arguments\n",
    "4. Variable length arguments\n"
   ]
  },
  {
   "cell_type": "markdown",
   "id": "c4a9fd0f",
   "metadata": {},
   "source": [
    "## 1. positional arguments:\n",
    "#### These are the arguments passed to function in correct positional order.\n",
    "#### def sub(a,b):\n",
    "#### print(a-b)\n",
    "#### sub(100,200)\n",
    "#### sub(200,100)\n",
    "#### The number of arguments and position of arguments must be matched. If we change the order then result may be changed.\n",
    "#### If we change the number of arguments then we will get error"
   ]
  },
  {
   "cell_type": "code",
   "execution_count": 29,
   "id": "e4c85d2b",
   "metadata": {},
   "outputs": [],
   "source": [
    "def test1(a,b):\n",
    "    return a+b"
   ]
  },
  {
   "cell_type": "code",
   "execution_count": 30,
   "id": "20257dd0",
   "metadata": {},
   "outputs": [
    {
     "data": {
      "text/plain": [
       "30"
      ]
     },
     "execution_count": 30,
     "metadata": {},
     "output_type": "execute_result"
    }
   ],
   "source": [
    "test1(10,20)"
   ]
  },
  {
   "cell_type": "code",
   "execution_count": 32,
   "id": "653e82e9",
   "metadata": {},
   "outputs": [
    {
     "ename": "TypeError",
     "evalue": "test1() takes 2 positional arguments but 3 were given",
     "output_type": "error",
     "traceback": [
      "\u001b[1;31m---------------------------------------------------------------------------\u001b[0m",
      "\u001b[1;31mTypeError\u001b[0m                                 Traceback (most recent call last)",
      "\u001b[1;32m<ipython-input-32-ffe3dea6034c>\u001b[0m in \u001b[0;36m<module>\u001b[1;34m\u001b[0m\n\u001b[1;32m----> 1\u001b[1;33m \u001b[0mtest1\u001b[0m\u001b[1;33m(\u001b[0m\u001b[1;36m10\u001b[0m\u001b[1;33m,\u001b[0m\u001b[1;36m20\u001b[0m\u001b[1;33m,\u001b[0m\u001b[1;36m30\u001b[0m\u001b[1;33m)\u001b[0m\u001b[1;33m\u001b[0m\u001b[1;33m\u001b[0m\u001b[0m\n\u001b[0m",
      "\u001b[1;31mTypeError\u001b[0m: test1() takes 2 positional arguments but 3 were given"
     ]
    }
   ],
   "source": [
    "test1(10,20,30)"
   ]
  },
  {
   "cell_type": "code",
   "execution_count": 33,
   "id": "0a0f8e72",
   "metadata": {},
   "outputs": [],
   "source": [
    "def test2(a,b):\n",
    "    return a-b"
   ]
  },
  {
   "cell_type": "code",
   "execution_count": 34,
   "id": "35c1af97",
   "metadata": {},
   "outputs": [
    {
     "data": {
      "text/plain": [
       "-100"
      ]
     },
     "execution_count": 34,
     "metadata": {},
     "output_type": "execute_result"
    }
   ],
   "source": [
    "test2(100,200)"
   ]
  },
  {
   "cell_type": "code",
   "execution_count": 35,
   "id": "4f7f6733",
   "metadata": {},
   "outputs": [
    {
     "data": {
      "text/plain": [
       "300"
      ]
     },
     "execution_count": 35,
     "metadata": {},
     "output_type": "execute_result"
    }
   ],
   "source": [
    "test1(200,100)"
   ]
  },
  {
   "cell_type": "code",
   "execution_count": null,
   "id": "05d76106",
   "metadata": {},
   "outputs": [],
   "source": []
  },
  {
   "cell_type": "code",
   "execution_count": null,
   "id": "0aa1058d",
   "metadata": {},
   "outputs": [],
   "source": []
  },
  {
   "cell_type": "markdown",
   "id": "a0b49e58",
   "metadata": {},
   "source": [
    "## 2. keyword arguments:\n",
    "##### We can pass argument values by keyword i.e by parameter name."
   ]
  },
  {
   "cell_type": "code",
   "execution_count": 36,
   "id": "760cf507",
   "metadata": {},
   "outputs": [],
   "source": [
    "def test3(a,b):\n",
    "    return a+b"
   ]
  },
  {
   "cell_type": "code",
   "execution_count": 37,
   "id": "0e80d00b",
   "metadata": {},
   "outputs": [
    {
     "data": {
      "text/plain": [
       "30"
      ]
     },
     "execution_count": 37,
     "metadata": {},
     "output_type": "execute_result"
    }
   ],
   "source": [
    "test3(10,b=20)"
   ]
  },
  {
   "cell_type": "code",
   "execution_count": 39,
   "id": "e8014163",
   "metadata": {},
   "outputs": [
    {
     "ename": "SyntaxError",
     "evalue": "positional argument follows keyword argument (<ipython-input-39-18169b9b2083>, line 1)",
     "output_type": "error",
     "traceback": [
      "\u001b[1;36m  File \u001b[1;32m\"<ipython-input-39-18169b9b2083>\"\u001b[1;36m, line \u001b[1;32m1\u001b[0m\n\u001b[1;33m    test3(a=10,20)\u001b[0m\n\u001b[1;37m               ^\u001b[0m\n\u001b[1;31mSyntaxError\u001b[0m\u001b[1;31m:\u001b[0m positional argument follows keyword argument\n"
     ]
    }
   ],
   "source": [
    "test3(a=10,20)"
   ]
  },
  {
   "cell_type": "code",
   "execution_count": 40,
   "id": "3d2ab458",
   "metadata": {},
   "outputs": [],
   "source": [
    "def hello(name,msg):\n",
    "    return \"Hello\",name,msg"
   ]
  },
  {
   "cell_type": "code",
   "execution_count": 41,
   "id": "59b55882",
   "metadata": {},
   "outputs": [
    {
     "data": {
      "text/plain": [
       "('Hello', 'Shridhar', 'How are you')"
      ]
     },
     "execution_count": 41,
     "metadata": {},
     "output_type": "execute_result"
    }
   ],
   "source": [
    "hello(\"Shridhar\",\"How are you\")"
   ]
  },
  {
   "cell_type": "code",
   "execution_count": 43,
   "id": "5f0e5290",
   "metadata": {},
   "outputs": [
    {
     "data": {
      "text/plain": [
       "('Hello', 'Shridhar', 'How are you')"
      ]
     },
     "execution_count": 43,
     "metadata": {},
     "output_type": "execute_result"
    }
   ],
   "source": [
    "hello(\"Shridhar\",msg=\"How are you\")"
   ]
  },
  {
   "cell_type": "code",
   "execution_count": 44,
   "id": "ea2adfe4",
   "metadata": {},
   "outputs": [
    {
     "data": {
      "text/plain": [
       "('Hello', 'Shridhar', 'How are you')"
      ]
     },
     "execution_count": 44,
     "metadata": {},
     "output_type": "execute_result"
    }
   ],
   "source": [
    "hello(name=\"Shridhar\",msg=\"How are you\")"
   ]
  },
  {
   "cell_type": "code",
   "execution_count": 45,
   "id": "4fa2ae68",
   "metadata": {},
   "outputs": [
    {
     "data": {
      "text/plain": [
       "('Hello', 'Shridhar', 'How are you')"
      ]
     },
     "execution_count": 45,
     "metadata": {},
     "output_type": "execute_result"
    }
   ],
   "source": [
    "hello(msg=\"How are you\",name=\"Shridhar\")"
   ]
  },
  {
   "cell_type": "code",
   "execution_count": null,
   "id": "dd07636c",
   "metadata": {},
   "outputs": [],
   "source": []
  },
  {
   "cell_type": "markdown",
   "id": "f7bf4932",
   "metadata": {},
   "source": [
    "#### Here the order of arguments is not important but number of arguments must be matched."
   ]
  },
  {
   "cell_type": "code",
   "execution_count": null,
   "id": "09832870",
   "metadata": {},
   "outputs": [],
   "source": []
  },
  {
   "cell_type": "markdown",
   "id": "8c9bc29b",
   "metadata": {},
   "source": [
    "#### Note:\n",
    "##### We can use both positional and keyword arguments simultaneously. But first we have to take positional arguments and then keyword arguments,otherwise we will get  syntaxerror."
   ]
  },
  {
   "cell_type": "code",
   "execution_count": 48,
   "id": "315cd283",
   "metadata": {},
   "outputs": [],
   "source": [
    "def plan_travel(bike=True,car=False):\n",
    "    travel= bike or car\n",
    "    return bike,car,travel"
   ]
  },
  {
   "cell_type": "code",
   "execution_count": 49,
   "id": "7a9e1eae",
   "metadata": {},
   "outputs": [
    {
     "data": {
      "text/plain": [
       "(True, False, True)"
      ]
     },
     "execution_count": 49,
     "metadata": {},
     "output_type": "execute_result"
    }
   ],
   "source": [
    "plan_travel()"
   ]
  },
  {
   "cell_type": "code",
   "execution_count": 50,
   "id": "ad6cc3eb",
   "metadata": {},
   "outputs": [
    {
     "data": {
      "text/plain": [
       "(False, False, False)"
      ]
     },
     "execution_count": 50,
     "metadata": {},
     "output_type": "execute_result"
    }
   ],
   "source": [
    "plan_travel(False)"
   ]
  },
  {
   "cell_type": "code",
   "execution_count": 51,
   "id": "218f527d",
   "metadata": {},
   "outputs": [
    {
     "data": {
      "text/plain": [
       "(True, True, True)"
      ]
     },
     "execution_count": 51,
     "metadata": {},
     "output_type": "execute_result"
    }
   ],
   "source": [
    "plan_travel(car=True)"
   ]
  },
  {
   "cell_type": "code",
   "execution_count": null,
   "id": "7ad54393",
   "metadata": {},
   "outputs": [],
   "source": []
  },
  {
   "cell_type": "code",
   "execution_count": null,
   "id": "861dae6f",
   "metadata": {},
   "outputs": [],
   "source": []
  },
  {
   "cell_type": "markdown",
   "id": "33406a49",
   "metadata": {},
   "source": [
    "## 3. Default Arguments:\n",
    "##### Sometimes we can provide default values for our positional arguments."
   ]
  },
  {
   "cell_type": "code",
   "execution_count": 62,
   "id": "c1734d24",
   "metadata": {},
   "outputs": [],
   "source": [
    "def saving(name,roi=4.5):\n",
    "    return \"The Rate of interest of SBI is for\",name,roi"
   ]
  },
  {
   "cell_type": "code",
   "execution_count": 63,
   "id": "ac75866a",
   "metadata": {},
   "outputs": [
    {
     "data": {
      "text/plain": [
       "('The Rate of interest of SBI is for', 'general people', 4.5)"
      ]
     },
     "execution_count": 63,
     "metadata": {},
     "output_type": "execute_result"
    }
   ],
   "source": [
    "saving(\"general people\")"
   ]
  },
  {
   "cell_type": "code",
   "execution_count": 65,
   "id": "754e5872",
   "metadata": {},
   "outputs": [
    {
     "data": {
      "text/plain": [
       "('The Rate of interest of SBI is for', 'Bank employee', 5.5)"
      ]
     },
     "execution_count": 65,
     "metadata": {},
     "output_type": "execute_result"
    }
   ],
   "source": [
    "saving(\"Bank employee\",5.5)"
   ]
  },
  {
   "cell_type": "markdown",
   "id": "89fbf38c",
   "metadata": {},
   "source": [
    "#### If we are not passing any name then only default value will be considered."
   ]
  },
  {
   "cell_type": "code",
   "execution_count": 68,
   "id": "6f84fe4d",
   "metadata": {},
   "outputs": [],
   "source": [
    "def hello1(msg,name=\"Guest\"):\n",
    "    return \"Hello\",name,msg"
   ]
  },
  {
   "cell_type": "code",
   "execution_count": 69,
   "id": "116eb16a",
   "metadata": {},
   "outputs": [
    {
     "data": {
      "text/plain": [
       "('Hello', 'Guest', 'How are you')"
      ]
     },
     "execution_count": 69,
     "metadata": {},
     "output_type": "execute_result"
    }
   ],
   "source": [
    "hello1(\"How are you\")"
   ]
  },
  {
   "cell_type": "code",
   "execution_count": 73,
   "id": "3939e9e4",
   "metadata": {},
   "outputs": [
    {
     "data": {
      "text/plain": [
       "('Hello', 'Ayushi', 'How are you')"
      ]
     },
     "execution_count": 73,
     "metadata": {},
     "output_type": "execute_result"
    }
   ],
   "source": [
    "hello1(name=\"Ayushi\",msg=\"How are you\")"
   ]
  },
  {
   "cell_type": "code",
   "execution_count": 75,
   "id": "42f22354",
   "metadata": {},
   "outputs": [
    {
     "ename": "SyntaxError",
     "evalue": "positional argument follows keyword argument (<ipython-input-75-2bf576e67812>, line 1)",
     "output_type": "error",
     "traceback": [
      "\u001b[1;36m  File \u001b[1;32m\"<ipython-input-75-2bf576e67812>\"\u001b[1;36m, line \u001b[1;32m1\u001b[0m\n\u001b[1;33m    hello1(name=\"Ayushi\",\"How are you\")\u001b[0m\n\u001b[1;37m                         ^\u001b[0m\n\u001b[1;31mSyntaxError\u001b[0m\u001b[1;31m:\u001b[0m positional argument follows keyword argument\n"
     ]
    }
   ],
   "source": [
    "hello1(name=\"Ayushi\",\"How are you\")"
   ]
  },
  {
   "cell_type": "markdown",
   "id": "fed95f87",
   "metadata": {},
   "source": [
    "####  ***Note:\n",
    "#### After default arguments we should not take non default arguments\n",
    "#### def wish(name=\"Guest\",msg=\"Good Morning\"): ===>Valid\n",
    "#### def wish(name,msg=\"Good Morning\"): ===>Valid\n",
    "#### def wish(name=\"Guest\",msg): ==>Invalid"
   ]
  },
  {
   "cell_type": "markdown",
   "id": "50fd330c",
   "metadata": {},
   "source": [
    "## 4. Variable length arguments:\n",
    "##### Sometimes we can pass variable number of arguments to our function,such type of arguments are called variable length arguments.We can declare a variable length argument with * symbol as follows\n",
    "##### def f1(*n):\n",
    "##### We can call this function by passing any number of arguments including zero number.Internally all these values represented in the form of tuple."
   ]
  },
  {
   "cell_type": "code",
   "execution_count": 79,
   "id": "8344d099",
   "metadata": {},
   "outputs": [],
   "source": [
    "def test4(*n):\n",
    "    return n"
   ]
  },
  {
   "cell_type": "code",
   "execution_count": 82,
   "id": "a01251cb",
   "metadata": {},
   "outputs": [
    {
     "data": {
      "text/plain": [
       "(1, 2, 3, 4)"
      ]
     },
     "execution_count": 82,
     "metadata": {},
     "output_type": "execute_result"
    }
   ],
   "source": [
    "test4(1,2,3,4)"
   ]
  },
  {
   "cell_type": "code",
   "execution_count": 84,
   "id": "bfee222f",
   "metadata": {},
   "outputs": [],
   "source": [
    "a,b,c,d=test4(1,2,3,4)"
   ]
  },
  {
   "cell_type": "code",
   "execution_count": 85,
   "id": "7ae5593b",
   "metadata": {},
   "outputs": [
    {
     "data": {
      "text/plain": [
       "1"
      ]
     },
     "execution_count": 85,
     "metadata": {},
     "output_type": "execute_result"
    }
   ],
   "source": [
    "a"
   ]
  },
  {
   "cell_type": "code",
   "execution_count": 86,
   "id": "0304ea4f",
   "metadata": {},
   "outputs": [
    {
     "data": {
      "text/plain": [
       "2"
      ]
     },
     "execution_count": 86,
     "metadata": {},
     "output_type": "execute_result"
    }
   ],
   "source": [
    "b"
   ]
  },
  {
   "cell_type": "code",
   "execution_count": 87,
   "id": "e4a9669f",
   "metadata": {},
   "outputs": [
    {
     "data": {
      "text/plain": [
       "([1, 2, 3], 5, 6, 7, 'Nachiket')"
      ]
     },
     "execution_count": 87,
     "metadata": {},
     "output_type": "execute_result"
    }
   ],
   "source": [
    "test4([1,2,3],5,6,7,\"Nachiket\")"
   ]
  },
  {
   "cell_type": "code",
   "execution_count": null,
   "id": "6d377f8e",
   "metadata": {},
   "outputs": [],
   "source": []
  },
  {
   "cell_type": "code",
   "execution_count": 81,
   "id": "e0abdc10",
   "metadata": {},
   "outputs": [
    {
     "data": {
      "text/plain": [
       "(1, 2, 3, 4, 5, 6, 7, 8, 9)"
      ]
     },
     "execution_count": 81,
     "metadata": {},
     "output_type": "execute_result"
    }
   ],
   "source": [
    "test4(1,2,3,4,5,6,7,8,9)"
   ]
  },
  {
   "cell_type": "code",
   "execution_count": 88,
   "id": "3d69ec92",
   "metadata": {},
   "outputs": [],
   "source": [
    "def test15(a,b,c,d):\n",
    "    return a + b + c + d"
   ]
  },
  {
   "cell_type": "code",
   "execution_count": 89,
   "id": "b4c3f04c",
   "metadata": {},
   "outputs": [
    {
     "data": {
      "text/plain": [
       "[1, 2, 3, 4, 5, 6, 7, 8, 9, 10, 12, 13, 14]"
      ]
     },
     "execution_count": 89,
     "metadata": {},
     "output_type": "execute_result"
    }
   ],
   "source": [
    "test15([1,2,3],[4,5,6,7,8],[9,10],[12,13,14])"
   ]
  },
  {
   "cell_type": "code",
   "execution_count": 90,
   "id": "b0f227e3",
   "metadata": {},
   "outputs": [],
   "source": [
    "def test16(*n):\n",
    "    l =[]\n",
    "    for i in n:\n",
    "        l.append(i)\n",
    "    return l\n",
    "    "
   ]
  },
  {
   "cell_type": "code",
   "execution_count": 91,
   "id": "03e2494e",
   "metadata": {},
   "outputs": [
    {
     "data": {
      "text/plain": [
       "[[1, 2, 3], [4, 5, 6, 7, 8], [9, 10], [12, 13, 14]]"
      ]
     },
     "execution_count": 91,
     "metadata": {},
     "output_type": "execute_result"
    }
   ],
   "source": [
    "test16([1,2,3],[4,5,6,7,8],[9,10],[12,13,14])"
   ]
  },
  {
   "cell_type": "code",
   "execution_count": 93,
   "id": "38b373f1",
   "metadata": {},
   "outputs": [
    {
     "data": {
      "text/plain": [
       "[[1, 2], [4, 5, 6, 7, 8, 9, 10]]"
      ]
     },
     "execution_count": 93,
     "metadata": {},
     "output_type": "execute_result"
    }
   ],
   "source": [
    "test16([1,2],[4,5,6,7,8,9,10])"
   ]
  },
  {
   "cell_type": "markdown",
   "id": "4fdab4f4",
   "metadata": {},
   "source": [
    "### Note:\n",
    "#### We can mix variable length arguments with positional arguments"
   ]
  },
  {
   "cell_type": "code",
   "execution_count": null,
   "id": "5b4dc85b",
   "metadata": {},
   "outputs": [],
   "source": []
  },
  {
   "cell_type": "code",
   "execution_count": null,
   "id": "62b1e859",
   "metadata": {},
   "outputs": [],
   "source": []
  },
  {
   "cell_type": "markdown",
   "id": "5f0be242",
   "metadata": {},
   "source": [
    "### Note: After variable length argument,if we are taking any other arguments then we should provide values as keyword arguments.\n"
   ]
  },
  {
   "cell_type": "code",
   "execution_count": null,
   "id": "f6c2a75d",
   "metadata": {},
   "outputs": [],
   "source": []
  },
  {
   "cell_type": "code",
   "execution_count": null,
   "id": "d13d59ae",
   "metadata": {},
   "outputs": [],
   "source": []
  },
  {
   "cell_type": "markdown",
   "id": "a7f575ff",
   "metadata": {},
   "source": [
    "### Note: We can declare key word variable length arguments also.\n",
    "### For this we have to use **.\n"
   ]
  },
  {
   "cell_type": "markdown",
   "id": "27a0a3a5",
   "metadata": {},
   "source": [
    "### def f1(**n):\n"
   ]
  },
  {
   "cell_type": "markdown",
   "id": "be79beed",
   "metadata": {},
   "source": [
    "#### We can call this function by passing any number of keyword arguments. Internally these keyword arguments will be stored inside a dictionary.\n"
   ]
  },
  {
   "cell_type": "code",
   "execution_count": null,
   "id": "4aadf614",
   "metadata": {},
   "outputs": [],
   "source": []
  },
  {
   "cell_type": "code",
   "execution_count": null,
   "id": "fe9d645f",
   "metadata": {},
   "outputs": [],
   "source": []
  },
  {
   "cell_type": "markdown",
   "id": "0bf717e4",
   "metadata": {},
   "source": [
    "### Case Study:\n",
    "#### def f(arg1,arg2,arg3=4,arg4=8):\n",
    "#### print(arg1,arg2,arg3,arg4)\n"
   ]
  },
  {
   "cell_type": "code",
   "execution_count": null,
   "id": "5d6b329e",
   "metadata": {},
   "outputs": [],
   "source": []
  },
  {
   "cell_type": "code",
   "execution_count": null,
   "id": "96526bf0",
   "metadata": {},
   "outputs": [],
   "source": []
  },
  {
   "cell_type": "code",
   "execution_count": null,
   "id": "88b49549",
   "metadata": {},
   "outputs": [],
   "source": []
  },
  {
   "cell_type": "markdown",
   "id": "24ac4a19",
   "metadata": {},
   "source": [
    "#### Function vs Module vs Library:\n",
    "1. A group of lines with some name is called a function\n",
    "2. A group of functions saved to a file , is called Module\n",
    "3. A group of Modules is nothing but Library"
   ]
  },
  {
   "attachments": {
    "image.png": {
     "image/png": "[encoded data removed]"
    }
   },
   "cell_type": "markdown",
   "id": "6b430100",
   "metadata": {},
   "source": [
    "![image.png](attachment:image.png)"
   ]
  },
  {
   "cell_type": "markdown",
   "id": "afda1132",
   "metadata": {},
   "source": [
    "## Types of Variables\n",
    "###### Python supports 2 types of variables.\n",
    "1. Global Variables\n",
    "2. Local Variables"
   ]
  },
  {
   "cell_type": "markdown",
   "id": "0fe31a37",
   "metadata": {},
   "source": [
    "## 1. Global Variables\n",
    "#### The variables which are declared outside of function are called global variables.These variables can be accessed in all functions of that module."
   ]
  },
  {
   "cell_type": "code",
   "execution_count": null,
   "id": "e7aab298",
   "metadata": {},
   "outputs": [],
   "source": []
  },
  {
   "cell_type": "code",
   "execution_count": null,
   "id": "139bfb49",
   "metadata": {},
   "outputs": [],
   "source": []
  },
  {
   "cell_type": "markdown",
   "id": "fd57f7ba",
   "metadata": {},
   "source": [
    "## 2. Local Variables:\n",
    "#### The variables which are declared inside a function are called local variables.Local variables are available only for the function in which we declared it.i.e from outside of function we cannot access"
   ]
  },
  {
   "cell_type": "code",
   "execution_count": null,
   "id": "a6d8031f",
   "metadata": {},
   "outputs": [],
   "source": []
  },
  {
   "cell_type": "code",
   "execution_count": null,
   "id": "549b8b5b",
   "metadata": {},
   "outputs": [],
   "source": []
  },
  {
   "cell_type": "markdown",
   "id": "06af7a79",
   "metadata": {},
   "source": [
    "## global keyword:\n",
    "##### We can use global keyword for the following 2 purposes:\n",
    "1. To declare global variable inside function\n",
    "2. To make global variable available to the function so that we can perform required \n",
    "modifications"
   ]
  },
  {
   "cell_type": "code",
   "execution_count": null,
   "id": "5cc9eaf5",
   "metadata": {},
   "outputs": [],
   "source": []
  },
  {
   "cell_type": "code",
   "execution_count": null,
   "id": "3709248d",
   "metadata": {},
   "outputs": [],
   "source": []
  },
  {
   "cell_type": "markdown",
   "id": "3719156c",
   "metadata": {},
   "source": [
    "##### Note: If global variable and local variable having the same name then we can access global variable inside a function as follows\n"
   ]
  },
  {
   "cell_type": "code",
   "execution_count": null,
   "id": "d48cbcb1",
   "metadata": {},
   "outputs": [],
   "source": []
  },
  {
   "cell_type": "markdown",
   "id": "507d4b41",
   "metadata": {},
   "source": [
    "## Recursive Functions\n",
    "##### A function that calls itself is known as Recursive Function.\n"
   ]
  },
  {
   "cell_type": "markdown",
   "id": "7bc95eed",
   "metadata": {},
   "source": [
    "###### Eg:\n",
    "###### factorial(3)=3*factorial(2)\n",
    " ###### =3*2*factorial(1)\n",
    " ###### =3*2*1*factorial(0)\n",
    " ###### =3*2*1*1\n",
    " ###### =6\n",
    "###### factorial(n)= n*factorial(n-1) \n",
    "The main advantages of recursive functions are:\n",
    "###### 1. We can reduce length of the code and improves readability\n",
    "###### 2. We can solve complex problems very easily.\n"
   ]
  },
  {
   "cell_type": "markdown",
   "id": "ccae8578",
   "metadata": {},
   "source": [
    "## Q. Write a Python Function to find factorial of given number with recursion."
   ]
  },
  {
   "cell_type": "code",
   "execution_count": null,
   "id": "b0f7b90f",
   "metadata": {},
   "outputs": [],
   "source": []
  },
  {
   "cell_type": "markdown",
   "id": "21be69f9",
   "metadata": {},
   "source": [
    "## Anonymous Functions:\n",
    "##### Sometimes we can declare a function without any name,such type of nameless functions are called anonymous functions or lambda functions.\n",
    "##### The main purpose of anonymous function is just for instant use(i.e for one time usage)\n"
   ]
  },
  {
   "cell_type": "markdown",
   "id": "4ccb4b5f",
   "metadata": {},
   "source": [
    "##### Python Lambda Functions are anonymous function means that the function is without a name. As we already know that the def keyword is used to define a normal function in Python. Similarly, the lambda keyword is used to define an anonymous function in Python."
   ]
  },
  {
   "cell_type": "code",
   "execution_count": null,
   "id": "826b1379",
   "metadata": {},
   "outputs": [],
   "source": []
  },
  {
   "cell_type": "markdown",
   "id": "42363b42",
   "metadata": {},
   "source": [
    "## lambda Function:\n",
    "###### We can define by using lambda keyword\n",
    "###### lambda n:n*n\n"
   ]
  },
  {
   "cell_type": "markdown",
   "id": "d9eba609",
   "metadata": {},
   "source": [
    "##### Syntax of lambda Function:\n",
    "##### lambda argument_list : expression\n",
    "##### Note: By using Lambda Functions we can write very concise code so that readability of the program will be improved."
   ]
  },
  {
   "cell_type": "markdown",
   "id": "76a78310",
   "metadata": {},
   "source": [
    "## Q. Write a program to create a lambda function to find square of given number?"
   ]
  },
  {
   "cell_type": "code",
   "execution_count": null,
   "id": "6698218c",
   "metadata": {},
   "outputs": [],
   "source": []
  },
  {
   "cell_type": "markdown",
   "id": "eaaed44c",
   "metadata": {},
   "source": [
    "## Q. Lambda function to find sum of 2 given numbers\n"
   ]
  },
  {
   "cell_type": "code",
   "execution_count": null,
   "id": "52314108",
   "metadata": {},
   "outputs": [],
   "source": []
  },
  {
   "cell_type": "markdown",
   "id": "a6243bfd",
   "metadata": {},
   "source": [
    "## Q. Lambda Function to find biggest of given values.\n"
   ]
  },
  {
   "cell_type": "code",
   "execution_count": null,
   "id": "65056374",
   "metadata": {},
   "outputs": [],
   "source": []
  },
  {
   "cell_type": "markdown",
   "id": "cd5fd639",
   "metadata": {},
   "source": [
    "#### Note: Lambda Function internally returns expression value and we are not required to write return statement explicitly.\n",
    "\n",
    "#### Note: Sometimes we can pass function as argument to another function. In such cases lambda functions are best choice.\n",
    "#### We can use lambda functions very commonly with filter(),map() and reduce() functions,b'z these functions expect function as argument.\n"
   ]
  },
  {
   "cell_type": "markdown",
   "id": "22350d2b",
   "metadata": {},
   "source": [
    "## filter() function:\n",
    "#### We can use filter() function to filter values from the given sequence based on some condition.\n",
    "\n",
    "#### filter(function,sequence)\n",
    " #### where function argument is responsible to perform conditional check sequence can be list or tuple or string.\n"
   ]
  },
  {
   "cell_type": "markdown",
   "id": "56b8a8ff",
   "metadata": {},
   "source": [
    "## Q. Program to filter only even numbers from the list by using filter() function?"
   ]
  },
  {
   "cell_type": "markdown",
   "id": "72a222b6",
   "metadata": {},
   "source": [
    "## without lambda Function:"
   ]
  },
  {
   "cell_type": "code",
   "execution_count": null,
   "id": "7c758e83",
   "metadata": {},
   "outputs": [],
   "source": []
  },
  {
   "cell_type": "markdown",
   "id": "9bf07609",
   "metadata": {},
   "source": [
    "## with lambda Function:"
   ]
  },
  {
   "cell_type": "code",
   "execution_count": null,
   "id": "579718a4",
   "metadata": {},
   "outputs": [],
   "source": []
  },
  {
   "cell_type": "code",
   "execution_count": null,
   "id": "e332d9cd",
   "metadata": {},
   "outputs": [],
   "source": []
  },
  {
   "cell_type": "markdown",
   "id": "e4396a98",
   "metadata": {},
   "source": [
    "## map() function:\n",
    "#### For every element present in the given sequence,apply some functionality and generate new element with the required modification. For this requirement we should go for map() function.\n"
   ]
  },
  {
   "cell_type": "markdown",
   "id": "a45af217",
   "metadata": {},
   "source": [
    "#### Eg: For every element present in the list perform double and generate new list of doubles.\n",
    "#### Syntax:\n",
    "#### map(function,sequence)\n",
    "#### The function can be applied on each element of sequence and generates new sequence.\n"
   ]
  },
  {
   "cell_type": "markdown",
   "id": "2dc21973",
   "metadata": {},
   "source": [
    "## Without lambda"
   ]
  },
  {
   "cell_type": "code",
   "execution_count": null,
   "id": "0a5a8af4",
   "metadata": {},
   "outputs": [],
   "source": []
  },
  {
   "cell_type": "markdown",
   "id": "37df362e",
   "metadata": {},
   "source": [
    "## With lambda"
   ]
  },
  {
   "cell_type": "code",
   "execution_count": null,
   "id": "52fb0168",
   "metadata": {},
   "outputs": [],
   "source": []
  },
  {
   "cell_type": "markdown",
   "id": "7a97aa10",
   "metadata": {},
   "source": [
    "#### We can apply map() function on multiple lists also.But make sure all list should have same length."
   ]
  },
  {
   "cell_type": "markdown",
   "id": "eb9def4a",
   "metadata": {},
   "source": [
    "#### Syntax: map(lambda x,y:x*y,l1,l2))\n",
    " #### x is from l1 and y is from l2"
   ]
  },
  {
   "cell_type": "code",
   "execution_count": null,
   "id": "18bcd1d0",
   "metadata": {},
   "outputs": [],
   "source": []
  },
  {
   "cell_type": "markdown",
   "id": "3fce3952",
   "metadata": {},
   "source": [
    "## reduce() function:\n",
    "#### reduce() function reduces sequence of elements into a single element by applying the specified function.\n",
    "#### reduce(function,sequence)\n",
    "#### reduce() function present in functools module and hence we should write import statement."
   ]
  },
  {
   "cell_type": "code",
   "execution_count": null,
   "id": "ec423712",
   "metadata": {},
   "outputs": [],
   "source": []
  },
  {
   "cell_type": "code",
   "execution_count": null,
   "id": "4f19d21e",
   "metadata": {},
   "outputs": [],
   "source": []
  },
  {
   "cell_type": "code",
   "execution_count": null,
   "id": "b53b8d0d",
   "metadata": {},
   "outputs": [],
   "source": []
  },
  {
   "cell_type": "code",
   "execution_count": null,
   "id": "10730fd1",
   "metadata": {},
   "outputs": [],
   "source": []
  },
  {
   "cell_type": "markdown",
   "id": "5312a5dc",
   "metadata": {},
   "source": [
    "#### Note:\n",
    "####  In Python every thing is treated as object.\n",
    "####  Even functions also internally treated as objects only"
   ]
  },
  {
   "cell_type": "code",
   "execution_count": null,
   "id": "da99d1f7",
   "metadata": {},
   "outputs": [],
   "source": []
  },
  {
   "cell_type": "markdown",
   "id": "02c3d5f9",
   "metadata": {},
   "source": [
    "## Function Aliasing:\n",
    "#### For the existing function we can give another name, which is nothing but function aliasing. "
   ]
  },
  {
   "cell_type": "code",
   "execution_count": null,
   "id": "aac0ff09",
   "metadata": {},
   "outputs": [],
   "source": []
  },
  {
   "cell_type": "code",
   "execution_count": null,
   "id": "71a29279",
   "metadata": {},
   "outputs": [],
   "source": []
  },
  {
   "cell_type": "markdown",
   "id": "90e33aa0",
   "metadata": {},
   "source": [
    "## Nested Functions:\n",
    "##### We can declare a function inside another function, such type of functions are called Nested functions.\n"
   ]
  },
  {
   "cell_type": "code",
   "execution_count": null,
   "id": "368e144c",
   "metadata": {},
   "outputs": [],
   "source": []
  }
 ],
 "metadata": {
  "kernelspec": {
   "display_name": "Python 3",
   "language": "python",
   "name": "python3"
  },
  "language_info": {
   "codemirror_mode": {
    "name": "ipython",
    "version": 3
   },
   "file_extension": ".py",
   "mimetype": "text/x-python",
   "name": "python",
   "nbconvert_exporter": "python",
   "pygments_lexer": "ipython3",
   "version": "3.8.8"
  }
 },
 "nbformat": 4,
 "nbformat_minor": 5
}
